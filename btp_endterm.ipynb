{
  "nbformat": 4,
  "nbformat_minor": 0,
  "metadata": {
    "colab": {
      "name": "btp_mid.ipynb",
      "provenance": [],
      "collapsed_sections": []
    },
    "kernelspec": {
      "display_name": "Python 3",
      "name": "python3"
    }
  },
  "cells": [
    {
      "cell_type": "code",
      "metadata": {
        "id": "pDQfCxaI__EQ",
        "colab": {
          "base_uri": "https://localhost:8080/"
        },
        "outputId": "4bca39b8-7484-4cb6-a958-e908593efa86"
      },
      "source": [
        "from google.colab import drive\n",
        "drive.mount('/content/drive')\n"
      ],
      "execution_count": 1,
      "outputs": [
        {
          "output_type": "stream",
          "text": [
            "Drive already mounted at /content/drive; to attempt to forcibly remount, call drive.mount(\"/content/drive\", force_remount=True).\n"
          ],
          "name": "stdout"
        }
      ]
    },
    {
      "cell_type": "code",
      "metadata": {
        "colab": {
          "base_uri": "https://localhost:8080/"
        },
        "id": "j0IGZfmZVJng",
        "outputId": "42181f76-b4e9-4481-e615-7a81b689091b"
      },
      "source": [
        "!wget https://www.dropbox.com/sh/t83lgbz7uaw1b4f/AAAT5jrNTxh1y_nAtX8Dqtewa?dl=0"
      ],
      "execution_count": 2,
      "outputs": [
        {
          "output_type": "stream",
          "text": [
            "--2021-06-27 08:40:07--  https://www.dropbox.com/sh/t83lgbz7uaw1b4f/AAAT5jrNTxh1y_nAtX8Dqtewa?dl=0\n",
            "Resolving www.dropbox.com (www.dropbox.com)... 162.125.2.18, 2620:100:6022:18::a27d:4212\n",
            "Connecting to www.dropbox.com (www.dropbox.com)|162.125.2.18|:443... connected.\n",
            "HTTP request sent, awaiting response... 301 Moved Permanently\n",
            "Location: /sh/raw/t83lgbz7uaw1b4f/AAAT5jrNTxh1y_nAtX8Dqtewa [following]\n",
            "--2021-06-27 08:40:08--  https://www.dropbox.com/sh/raw/t83lgbz7uaw1b4f/AAAT5jrNTxh1y_nAtX8Dqtewa\n",
            "Reusing existing connection to www.dropbox.com:443.\n",
            "HTTP request sent, awaiting response... 302 Found\n",
            "Location: https://uc893c143f114d6f4f1b5e55061b.dl.dropboxusercontent.com/zip_download_get/A0kWfa7N3BgTwYfqCfFe_-YpxzBSznTh_qtxaJFSUiFn-YPU1QUkFCIdxX4fFsiq9GPETDGfbuUQaTyflJIl7ubi9CWQxk1kVX6YNObyDC8piA# [following]\n",
            "--2021-06-27 08:40:09--  https://uc893c143f114d6f4f1b5e55061b.dl.dropboxusercontent.com/zip_download_get/A0kWfa7N3BgTwYfqCfFe_-YpxzBSznTh_qtxaJFSUiFn-YPU1QUkFCIdxX4fFsiq9GPETDGfbuUQaTyflJIl7ubi9CWQxk1kVX6YNObyDC8piA\n",
            "Resolving uc893c143f114d6f4f1b5e55061b.dl.dropboxusercontent.com (uc893c143f114d6f4f1b5e55061b.dl.dropboxusercontent.com)... 162.125.2.15, 2620:100:6022:15::a27d:420f\n",
            "Connecting to uc893c143f114d6f4f1b5e55061b.dl.dropboxusercontent.com (uc893c143f114d6f4f1b5e55061b.dl.dropboxusercontent.com)|162.125.2.15|:443... connected.\n",
            "HTTP request sent, awaiting response... 200 OK\n",
            "Length: 219221457 (209M) [application/zip]\n",
            "Saving to: ‘AAAT5jrNTxh1y_nAtX8Dqtewa?dl=0’\n",
            "\n",
            "AAAT5jrNTxh1y_nAtX8 100%[===================>] 209.07M  49.5MB/s    in 4.3s    \n",
            "\n",
            "2021-06-27 08:40:14 (49.1 MB/s) - ‘AAAT5jrNTxh1y_nAtX8Dqtewa?dl=0’ saved [219221457/219221457]\n",
            "\n"
          ],
          "name": "stdout"
        }
      ]
    },
    {
      "cell_type": "code",
      "metadata": {
        "colab": {
          "base_uri": "https://localhost:8080/"
        },
        "id": "u31QLvahVT_2",
        "outputId": "e0e15323-f6f3-4c10-c7c7-a8389d7a181d"
      },
      "source": [
        "!unzip Dataset"
      ],
      "execution_count": 3,
      "outputs": [
        {
          "output_type": "stream",
          "text": [
            "Archive:  Dataset\n",
            "warning:  stripped absolute path spec from /\n",
            "mapname:  conversion of  failed\n",
            "   creating: Test/\n",
            "   creating: Train/\n",
            "   creating: Test/covid/\n",
            "   creating: Test/Normal/\n",
            "   creating: Train/covid/\n",
            "   creating: Train/Normal/\n",
            " extracting: Train/covid/AR-1.jpg    \n",
            " extracting: Train/covid/AR-2.jpg    \n",
            " extracting: Train/covid/paving.jpg  \n",
            " extracting: Test/covid/4d98e1de.jpg  \n",
            " extracting: Test/covid/2cd63b76.jpg  \n",
            " extracting: Test/covid/3b46de94.jpg  \n",
            " extracting: Train/covid/e1446fe8.jpg  \n",
            " extracting: Train/covid/441c9cdd.jpg  \n",
            " extracting: Train/covid/d9d6ca9a.jpg  \n",
            " extracting: Train/covid/2168a917.jpg  \n",
            " extracting: Train/covid/f64132c8.jpg  \n",
            " extracting: Train/covid/90986ce4.jpg  \n",
            " extracting: Train/covid/5782ae15.jpg  \n",
            " extracting: Train/covid/2cd63b76.jpg  \n",
            " extracting: Train/covid/b9673e89.jpg  \n",
            " extracting: Train/covid/82a78c13.jpg  \n",
            " extracting: Train/covid/f8335316.jpg  \n",
            " extracting: Train/covid/ac4f6e4e.jpg  \n",
            " extracting: Train/covid/8fc103ca.jpg  \n",
            " extracting: Train/covid/c3829ecb.jpg  \n",
            " extracting: Train/covid/bb0e626a.jpg  \n",
            " extracting: Train/covid/bd10d5e2.jpg  \n",
            " extracting: Train/covid/7afaaccc.jpg  \n",
            " extracting: Train/covid/8da14fff.jpg  \n",
            " extracting: Train/covid/ec083e35.jpg  \n",
            " extracting: Train/covid/1052b0fe.jpg  \n",
            " extracting: Train/covid/d009d61f.jpg  \n",
            " extracting: Train/covid/c601f50d.jpg  \n",
            " extracting: Train/covid/c0f74558.jpg  \n",
            " extracting: Train/covid/48c4542c.jpg  \n",
            " extracting: Train/covid/19abe1f3.jpg  \n",
            " extracting: Train/covid/5f619d7e.jpg  \n",
            " extracting: Train/covid/a2eba651.jpg  \n",
            " extracting: Train/covid/f6575117.jpg  \n",
            " extracting: Train/covid/f6d980a0.jpg  \n",
            " extracting: Train/covid/3b46de94.jpg  \n",
            " extracting: Train/covid/4d98e1de.jpg  \n",
            " extracting: Train/covid/0a7faa2a.jpg  \n",
            " extracting: Train/covid/a361d7b7.jpg  \n",
            " extracting: Train/covid/a8ac1969.jpg  \n",
            " extracting: Train/covid/80b5f00f.jpg  \n",
            " extracting: Train/covid/wong-0003.jpg  \n",
            " extracting: Train/covid/16660_1_1.jpg  \n",
            " extracting: Train/covid/16672_1_1.jpg  \n",
            " extracting: Train/covid/wong-0004.jpg  \n",
            " extracting: Train/covid/wong-0002.jpg  \n",
            " extracting: Train/covid/16745_5_1.png  \n",
            " extracting: Train/covid/16708_1_1.jpg  \n",
            " extracting: Train/covid/wong-0000.jpg  \n",
            " extracting: Train/covid/16660_4_1.jpg  \n",
            " extracting: Train/covid/16663_1_1.jpg  \n",
            " extracting: Train/covid/16708_4_1.jpg  \n",
            " extracting: Train/covid/16953_4_1.jpg  \n",
            " extracting: Train/covid/16747_1_1.jpg  \n",
            " extracting: Train/covid/16660_3_1.jpg  \n",
            " extracting: Train/covid/16953_3_1.jpg  \n",
            " extracting: Train/covid/16953_5_1.jpg  \n",
            " extracting: Train/covid/16664_1_1.jpg  \n",
            " extracting: Train/covid/gr1_lrg-b.jpg  \n",
            " extracting: Train/covid/16865_1_1.jpg  \n",
            " extracting: Train/covid/wong-0005.jpg  \n",
            " extracting: Train/covid/16660_5_1.jpg  \n",
            " extracting: Train/covid/16660_2_1.jpg  \n",
            " extracting: Train/covid/gr1_lrg-a.jpg  \n",
            " extracting: Train/covid/16708_5_1.jpg  \n",
            " extracting: Train/covid/16669_3_1.jpeg  \n",
            " extracting: Train/covid/extubation-1.jpg  \n",
            " extracting: Train/covid/extubation-4.jpg  \n",
            " extracting: Test/covid/2-chest-filmc.jpg  \n",
            " extracting: Train/covid/extubation-8.jpg  \n",
            " extracting: Test/Normal/IM-0223-0001.jpeg  \n",
            " extracting: Test/Normal/IM-0158-0001.jpeg  \n",
            " extracting: Test/Normal/IM-0300-0001.jpeg  \n",
            " extracting: Test/Normal/IM-0117-0001.jpeg  \n",
            " extracting: Test/Normal/IM-0288-0001.jpeg  \n",
            " extracting: Test/Normal/IM-0273-0001.jpeg  \n",
            " extracting: Train/covid/extubation-13.jpg  \n",
            " extracting: Test/Normal/IM-0272-0001.jpeg  \n",
            " extracting: Train/covid/lancet-case2b.jpg  \n",
            " extracting: Test/Normal/IM-0253-0001.jpeg  \n",
            " extracting: Test/Normal/IM-0227-0001.jpeg  \n",
            " extracting: Test/Normal/IM-0295-0001.jpeg  \n",
            " extracting: Test/Normal/IM-0244-0001.jpeg  \n",
            " extracting: Test/Normal/IM-0209-0001.jpeg  \n",
            " extracting: Test/Normal/IM-0189-0001.jpeg  \n",
            " extracting: Test/Normal/IM-0265-0001.jpeg  \n",
            " extracting: Test/Normal/IM-0154-0001.jpeg  \n",
            " extracting: Test/Normal/IM-0298-0001.jpeg  \n",
            " extracting: Test/Normal/IM-0228-0001.jpeg  \n",
            " extracting: Test/Normal/IM-0230-0001.jpeg  \n",
            " extracting: Test/Normal/IM-0229-0001.jpeg  \n",
            " extracting: Test/Normal/IM-0231-0001.jpeg  \n",
            " extracting: Test/Normal/IM-0206-0001.jpeg  \n",
            " extracting: Test/Normal/IM-0301-0001.jpeg  \n",
            " extracting: Train/covid/BMJ-37-163-g1.jpg  \n",
            " extracting: Test/Normal/IM-0302-0001.jpeg  \n",
            " extracting: Test/Normal/IM-0133-0001.jpeg  \n",
            " extracting: Test/Normal/IM-0129-0001.jpeg  \n",
            " extracting: Test/Normal/IM-0269-0001.jpeg  \n",
            " extracting: Test/Normal/IM-0299-0001.jpeg  \n",
            " extracting: Test/Normal/IM-0203-0001.jpeg  \n",
            " extracting: Train/covid/lancet-case2a.jpg  \n",
            " extracting: Test/Normal/IM-0205-0001.jpeg  \n",
            " extracting: Test/Normal/IM-0125-0001.jpeg  \n",
            " extracting: Test/Normal/IM-0152-0001.jpeg  \n",
            " extracting: Test/Normal/IM-0156-0001.jpeg  \n",
            " extracting: Test/Normal/IM-0122-0001.jpeg  \n",
            " extracting: Test/Normal/IM-0289-0001.jpeg  \n",
            " extracting: Test/Normal/IM-0266-0001.jpeg  \n",
            " extracting: Train/covid/2-chest-filmc.jpg  \n",
            " extracting: Test/Normal/IM-0243-0001.jpeg  \n",
            " extracting: Test/Normal/IM-0279-0001.jpeg  \n",
            " extracting: Test/Normal/IM-0286-0001.jpeg  \n",
            " extracting: Test/Normal/IM-0264-0001.jpeg  \n",
            " extracting: Test/Normal/IM-0128-0001.jpeg  \n",
            " extracting: Test/Normal/IM-0270-0001.jpeg  \n",
            " extracting: Test/Normal/IM-0245-0001.jpeg  \n",
            " extracting: Test/Normal/IM-0119-0001.jpeg  \n",
            " extracting: Test/Normal/IM-0131-0001.jpeg  \n",
            " extracting: Test/Normal/IM-0127-0001.jpeg  \n",
            " extracting: Train/Normal/IM-0323-0001.jpeg  \n",
            " extracting: Train/Normal/IM-0209-0001.jpeg  \n",
            " extracting: Train/Normal/IM-0302-0001.jpeg  \n",
            " extracting: Train/Normal/IM-0379-0001.jpeg  \n",
            " extracting: Train/Normal/IM-0151-0001.jpeg  \n",
            " extracting: Train/covid/tpmd200203f2-c.png  \n",
            " extracting: Train/Normal/IM-0423-0001.jpeg  \n",
            " extracting: Train/Normal/IM-0311-0001.jpeg  \n",
            " extracting: Train/Normal/IM-0425-0001.jpeg  \n",
            " extracting: Train/Normal/IM-0330-0001.jpeg  \n",
            " extracting: Train/Normal/IM-0320-0001.jpeg  \n",
            " extracting: Train/Normal/IM-0493-0001.jpeg  \n",
            " extracting: Train/Normal/IM-0481-0001.jpeg  \n",
            " extracting: Train/Normal/IM-0266-0001.jpeg  \n",
            " extracting: Train/Normal/IM-0333-0001.jpeg  \n",
            " extracting: Train/Normal/IM-0502-0001.jpeg  \n",
            " extracting: Train/Normal/IM-0230-0001.jpeg  \n",
            " extracting: Train/Normal/IM-0444-0001.jpeg  \n",
            " extracting: Train/Normal/IM-0403-0001.jpeg  \n",
            " extracting: Train/Normal/IM-0427-0001.jpeg  \n",
            " extracting: Train/Normal/IM-0117-0001.jpeg  \n",
            " extracting: Train/Normal/IM-0245-0001.jpeg  \n",
            " extracting: Train/Normal/IM-0332-0001.jpeg  \n",
            " extracting: Train/Normal/IM-0395-0001.jpeg  \n",
            " extracting: Train/Normal/IM-0482-0001.jpeg  \n",
            " extracting: Train/Normal/IM-0486-0001.jpeg  \n",
            " extracting: Train/Normal/IM-0315-0001.jpeg  \n",
            " extracting: Train/Normal/IM-0416-0001.jpeg  \n",
            " extracting: Train/Normal/IM-0319-0001.jpeg  \n",
            " extracting: Train/Normal/IM-0469-0001.jpeg  \n",
            " extracting: Train/Normal/IM-0401-0001.jpeg  \n",
            " extracting: Train/Normal/IM-0351-0001.jpeg  \n",
            " extracting: Train/Normal/IM-0369-0001.jpeg  \n",
            " extracting: Train/Normal/IM-0446-0001.jpeg  \n",
            " extracting: Train/Normal/IM-0131-0001.jpeg  \n",
            " extracting: Train/Normal/IM-0455-0001.jpeg  \n",
            " extracting: Train/Normal/IM-0300-0001.jpeg  \n",
            " extracting: Train/Normal/IM-0341-0001.jpeg  \n",
            " extracting: Train/Normal/IM-0484-0001.jpeg  \n",
            " extracting: Train/Normal/IM-0386-0001.jpeg  \n",
            " extracting: Train/Normal/IM-0119-0001.jpeg  \n",
            " extracting: Train/Normal/IM-0128-0001.jpeg  \n",
            " extracting: Train/Normal/IM-0329-0001.jpeg  \n",
            " extracting: Train/Normal/IM-0394-0001.jpeg  \n",
            " extracting: Train/Normal/IM-0158-0001.jpeg  \n",
            " extracting: Train/Normal/IM-0424-0001.jpeg  \n",
            " extracting: Train/Normal/IM-0227-0001.jpeg  \n",
            " extracting: Train/Normal/IM-0272-0001.jpeg  \n",
            " extracting: Train/Normal/IM-0253-0001.jpeg  \n",
            " extracting: Train/Normal/IM-0494-0001.jpeg  \n",
            " extracting: Train/Normal/IM-0496-0001.jpeg  \n",
            " extracting: Train/Normal/IM-0314-0001.jpeg  \n",
            " extracting: Train/Normal/IM-0303-0001.jpeg  \n",
            " extracting: Train/Normal/IM-0270-0001.jpeg  \n",
            " extracting: Train/Normal/IM-0389-0001.jpeg  \n",
            " extracting: Train/Normal/IM-0414-0001.jpeg  \n",
            " extracting: Train/Normal/IM-0370-0001.jpeg  \n",
            " extracting: Train/Normal/IM-0135-0001.jpeg  \n",
            " extracting: Train/Normal/IM-0295-0001.jpeg  \n",
            " extracting: Train/Normal/IM-0265-0001.jpeg  \n",
            " extracting: Train/Normal/IM-0388-0001.jpeg  \n",
            " extracting: Train/Normal/IM-0298-0001.jpeg  \n",
            " extracting: Train/Normal/IM-0483-0001.jpeg  \n",
            " extracting: Train/Normal/IM-0365-0001.jpeg  \n",
            " extracting: Train/Normal/IM-0273-0001.jpeg  \n",
            " extracting: Train/Normal/IM-0357-0001.jpeg  \n",
            " extracting: Train/Normal/IM-0508-0001.jpeg  \n",
            " extracting: Train/Normal/IM-0308-0001.jpeg  \n",
            " extracting: Train/Normal/IM-0203-0001.jpeg  \n",
            " extracting: Train/Normal/IM-0472-0001.jpeg  \n",
            " extracting: Train/Normal/IM-0346-0001.jpeg  \n",
            " extracting: Train/Normal/IM-0399-0001.jpeg  \n",
            " extracting: Train/Normal/IM-0519-0001.jpeg  \n",
            " extracting: Train/Normal/IM-0404-0001.jpeg  \n",
            " extracting: Train/Normal/IM-0304-0001.jpeg  \n",
            " extracting: Train/Normal/IM-0115-0001.jpeg  \n",
            " extracting: Train/Normal/IM-0442-0001.jpeg  \n",
            " extracting: Train/Normal/IM-0479-0001.jpeg  \n",
            " extracting: Train/Normal/IM-0288-0001.jpeg  \n",
            " extracting: Train/Normal/IM-0189-0001.jpeg  \n",
            " extracting: Train/Normal/IM-0355-0001.jpeg  \n",
            " extracting: Train/Normal/IM-0316-0001.jpeg  \n",
            " extracting: Train/Normal/IM-0325-0001.jpeg  \n",
            " extracting: Train/Normal/IM-0206-0001.jpeg  \n",
            " extracting: Train/Normal/IM-0511-0001.jpeg  \n",
            " extracting: Train/Normal/IM-0381-0001.jpeg  \n",
            " extracting: Train/Normal/IM-0456-0001.jpeg  \n",
            " extracting: Train/Normal/IM-0473-0001.jpeg  \n",
            " extracting: Train/Normal/IM-0140-0001.jpeg  \n",
            " extracting: Train/Normal/IM-0133-0001.jpeg  \n",
            " extracting: Train/Normal/IM-0264-0001.jpeg  \n",
            " extracting: Train/Normal/IM-0312-0001.jpeg  \n",
            " extracting: Train/Normal/IM-0129-0001.jpeg  \n",
            " extracting: Train/Normal/IM-0285-0001.jpeg  \n",
            " extracting: Train/Normal/IM-0269-0001.jpeg  \n",
            " extracting: Train/Normal/IM-0387-0001.jpeg  \n",
            " extracting: Train/Normal/IM-0516-0001.jpeg  \n",
            " extracting: Train/Normal/IM-0340-0001.jpeg  \n",
            " extracting: Train/Normal/IM-0510-0001.jpeg  \n",
            " extracting: Train/Normal/IM-0447-0001.jpeg  \n",
            " extracting: Train/Normal/IM-0125-0001.jpeg  \n",
            " extracting: Train/Normal/IM-0338-0001.jpeg  \n",
            " extracting: Train/Normal/IM-0356-0001.jpeg  \n",
            " extracting: Train/Normal/IM-0348-0001.jpeg  \n",
            " extracting: Train/covid/tpmd200203f2-b.png  \n",
            " extracting: Train/Normal/IM-0231-0001.jpeg  \n",
            " extracting: Train/Normal/IM-0371-0001.jpeg  \n",
            " extracting: Train/Normal/IM-0471-0001.jpeg  \n",
            " extracting: Train/Normal/IM-0343-0001.jpeg  \n",
            " extracting: Train/Normal/IM-0152-0001.jpeg  \n",
            " extracting: Train/Normal/IM-0438-0001.jpeg  \n",
            " extracting: Train/Normal/IM-0362-0001.jpeg  \n",
            " extracting: Train/Normal/IM-0251-0001.jpeg  \n",
            " extracting: Train/Normal/IM-0345-0001.jpeg  \n",
            " extracting: Train/Normal/IM-0409-0001.jpeg  \n",
            " extracting: Train/Normal/IM-0503-0001.jpeg  \n",
            " extracting: Train/Normal/IM-0364-0001.jpeg  \n",
            " extracting: Train/Normal/IM-0349-0001.jpeg  \n",
            " extracting: Train/Normal/IM-0492-0001.jpeg  \n",
            " extracting: Train/Normal/IM-0350-0001.jpeg  \n",
            " extracting: Train/Normal/IM-0228-0001.jpeg  \n",
            " extracting: Train/Normal/IM-0421-0001.jpeg  \n",
            " extracting: Train/Normal/IM-0429-0001.jpeg  \n",
            " extracting: Train/Normal/IM-0514-0001.jpeg  \n",
            " extracting: Train/Normal/IM-0250-0001.jpeg  \n",
            " extracting: Train/Normal/IM-0372-0001.jpeg  \n",
            " extracting: Train/Normal/IM-0335-0001.jpeg  \n",
            " extracting: Train/Normal/IM-0127-0001.jpeg  \n",
            " extracting: Train/Normal/IM-0382-0001.jpeg  \n",
            " extracting: Train/Normal/IM-0428-0001.jpeg  \n",
            " extracting: Train/Normal/IM-0229-0001.jpeg  \n",
            " extracting: Train/Normal/IM-0286-0001.jpeg  \n",
            " extracting: Train/Normal/IM-0205-0001.jpeg  \n",
            " extracting: Train/Normal/IM-0474-0001.jpeg  \n",
            " extracting: Train/Normal/IM-0280-0001.jpeg  \n",
            " extracting: Train/Normal/IM-0313-0001.jpeg  \n",
            " extracting: Train/Normal/IM-0243-0001.jpeg  \n",
            " extracting: Train/Normal/IM-0307-0001.jpeg  \n",
            " extracting: Train/Normal/IM-0331-0001.jpeg  \n",
            " extracting: Train/Normal/IM-0223-0001.jpeg  \n",
            " extracting: Train/Normal/IM-0327-0001.jpeg  \n",
            " extracting: Train/Normal/IM-0347-0001.jpeg  \n",
            " extracting: Train/Normal/IM-0445-0001.jpeg  \n",
            " extracting: Train/Normal/IM-0457-0001.jpeg  \n",
            " extracting: Train/Normal/IM-0500-0001.jpeg  \n",
            " extracting: Train/Normal/IM-0289-0001.jpeg  \n",
            " extracting: Train/Normal/IM-0318-0001.jpeg  \n",
            " extracting: Train/Normal/IM-0491-0001.jpeg  \n",
            " extracting: Train/Normal/IM-0305-0001.jpeg  \n",
            " extracting: Train/Normal/IM-0306-0001.jpeg  \n",
            " extracting: Train/Normal/IM-0317-0001.jpeg  \n",
            " extracting: Train/Normal/IM-0326-0001.jpeg  \n",
            " extracting: Train/Normal/IM-0363-0001.jpeg  \n",
            " extracting: Train/Normal/IM-0244-0001.jpeg  \n",
            " extracting: Train/Normal/IM-0283-0001.jpeg  \n",
            " extracting: Train/Normal/IM-0517-0001.jpeg  \n",
            " extracting: Train/Normal/IM-0509-0001.jpeg  \n",
            " extracting: Train/Normal/IM-0480-0001.jpeg  \n",
            " extracting: Train/Normal/IM-0122-0001.jpeg  \n",
            " extracting: Train/Normal/IM-0222-0001.jpeg  \n",
            " extracting: Train/Normal/IM-0515-0001.jpeg  \n",
            " extracting: Train/Normal/IM-0437-0001.jpeg  \n",
            " extracting: Train/Normal/IM-0156-0001.jpeg  \n",
            " extracting: Train/Normal/IM-0154-0001.jpeg  \n",
            " extracting: Train/Normal/IM-0214-0001.jpeg  \n",
            " extracting: Train/Normal/IM-0301-0001.jpeg  \n",
            " extracting: Train/Normal/IM-0441-0001.jpeg  \n",
            " extracting: Train/Normal/IM-0506-0001.jpeg  \n",
            " extracting: Train/Normal/IM-0279-0001.jpeg  \n",
            " extracting: Train/Normal/IM-0485-0001.jpeg  \n",
            " extracting: Train/Normal/IM-0248-0001.jpeg  \n",
            " extracting: Train/Normal/IM-0501-0001.jpeg  \n",
            " extracting: Train/Normal/IM-0507-0001.jpeg  \n",
            " extracting: Train/Normal/IM-0299-0001.jpeg  \n",
            " extracting: Train/Normal/IM-0215-0001.jpeg  \n",
            " extracting: Train/Normal/IM-0353-0001.jpeg  \n",
            " extracting: Train/Normal/IM-0495-0001.jpeg  \n",
            " extracting: Train/Normal/IM-0337-0001.jpeg  \n",
            " extracting: Train/Normal/IM-0367-0001.jpeg  \n",
            " extracting: Train/covid/7-fatal-covid19.jpg  \n",
            " extracting: Train/covid/ciaa199.pdf-001-a.png  \n",
            " extracting: Train/covid/nejmoa2001191_f4.jpeg  \n",
            " extracting: Train/covid/nejmc2001573_f1a.jpeg  \n",
            " extracting: Train/covid/ciaa199.pdf-001-b.png  \n",
            " extracting: Train/covid/nejmc2001573_f1b.jpeg  \n",
            " extracting: Train/covid/thnov10p5641g006-c.png  \n",
            " extracting: Train/Normal/IM-0499-0001-0001.jpeg  \n",
            " extracting: Train/Normal/IM-0491-0001-0002.jpeg  \n",
            " extracting: Train/Normal/IM-0467-0001-0002.jpeg  \n",
            " extracting: Train/Normal/IM-0499-0001-0002.jpeg  \n",
            " extracting: Train/covid/ryct.2020003.fig2-a.png  \n",
            " extracting: Train/covid/nejmoa2001191_f1-L.jpeg  \n",
            " extracting: Train/Normal/IM-0437-0001-0001.jpeg  \n",
            " extracting: Train/Normal/IM-0501-0001-0002.jpeg  \n",
            " extracting: Train/covid/ryct.2020003.fig2-b.png  \n",
            " extracting: Train/covid/ryct.2020003.fig2-c.png  \n",
            " extracting: Train/Normal/IM-0519-0001-0001.jpeg  \n",
            " extracting: Train/Normal/IM-0467-0001-0001.jpeg  \n",
            " extracting: Train/Normal/IM-0519-0001-0002.jpeg  \n",
            " extracting: Train/Normal/IM-0491-0001-0001.jpeg  \n",
            " extracting: Train/covid/kjr-21-e25-g001-l-a.jpg  \n",
            " extracting: Train/Normal/IM-0437-0001-0002.jpeg  \n",
            " extracting: Train/Normal/IM-0501-0001-0001.jpeg  \n",
            " extracting: Train/Normal/IM-0453-0001-0002.jpeg  \n",
            " extracting: Train/covid/nejmoa2001191_f3-L.jpeg  \n",
            " extracting: Train/Normal/IM-0509-0001-0001.jpeg  \n",
            " extracting: Train/Normal/IM-0509-0001-0002.jpeg  \n",
            " extracting: Train/covid/nejmoa2001191_f5-L.jpeg  \n",
            " extracting: Train/Normal/IM-0517-0001-0001.jpeg  \n",
            " extracting: Train/covid/covid-19-pneumonia-8.jpg  \n",
            " extracting: Train/covid/nejmoa2001191_f3-PA.jpeg  \n",
            " extracting: Train/covid/covid-19-caso-82-1-8.png  \n",
            " extracting: Train/covid/nejmoa2001191_f5-PA.jpeg  \n",
            " extracting: Train/covid/jkms-35-e79-g001-l-c.jpg  \n",
            " extracting: Train/covid/nejmoa2001191_f1-PA.jpeg  \n",
            " extracting: Train/covid/jkms-35-e79-g001-l-b.jpg  \n",
            " extracting: Train/covid/jkms-35-e79-g001-l-a.jpg  \n",
            " extracting: Train/covid/covid-19-caso-95-3-14.png  \n",
            " extracting: Train/covid/covid-19-caso-70-1-PA.jpg  \n",
            " extracting: Train/covid/covid-19-pneumonia-93.png  \n",
            " extracting: Train/covid/all14238-fig-0001-m-c.jpg  \n",
            " extracting: Train/covid/all14238-fig-0001-m-b.jpg  \n",
            " extracting: Train/covid/covid-19-caso-91-1-12.png  \n",
            " extracting: Train/covid/covid-19-pneumonia-28.png  \n",
            " extracting: Train/covid/covid-19-caso-95-1-15.png  \n",
            " extracting: Train/covid/covid-19-pneumonia-20.jpg  \n",
            " extracting: Train/covid/ryct.2020200034.fig2.jpeg  \n",
            " extracting: Train/covid/covid-19-caso-94-1-14.png  \n",
            " extracting: Train/covid/covid-19-pneumonia-53.jpg  \n",
            " extracting: Train/Normal/NORMAL2-IM-0335-0001.jpeg  \n",
            " extracting: Train/covid/covid-19-pneumonia-7-L.jpg  \n",
            " extracting: Train/Normal/NORMAL2-IM-0336-0001.jpeg  \n",
            " extracting: Train/Normal/NORMAL2-IM-0368-0001.jpeg  \n",
            " extracting: Train/Normal/NORMAL2-IM-0348-0001.jpeg  \n",
            " extracting: Train/Normal/NORMAL2-IM-0361-0001.jpeg  \n",
            " extracting: Train/Normal/NORMAL2-IM-0346-0001.jpeg  \n",
            " extracting: Train/Normal/NORMAL2-IM-0362-0001.jpeg  \n",
            " extracting: Train/covid/ryct.2020200028.fig1a.jpeg  \n",
            " extracting: Train/Normal/NORMAL2-IM-0347-0001.jpeg  \n",
            " extracting: Train/Normal/NORMAL2-IM-0381-0001.jpeg  \n",
            " extracting: Train/Normal/NORMAL2-IM-0349-0001.jpeg  \n",
            " extracting: Train/Normal/NORMAL2-IM-0380-0001.jpeg  \n",
            " extracting: Train/Normal/NORMAL2-IM-0333-0001.jpeg  \n",
            " extracting: Train/Normal/NORMAL2-IM-0378-0001.jpeg  \n",
            " extracting: Train/Normal/NORMAL2-IM-0350-0001.jpeg  \n",
            " extracting: Train/Normal/NORMAL2-IM-0376-0001.jpeg  \n",
            " extracting: Train/Normal/NORMAL2-IM-0331-0001.jpeg  \n",
            " extracting: Train/Normal/NORMAL2-IM-0364-0001.jpeg  \n",
            " extracting: Train/Normal/NORMAL2-IM-0366-0001.jpeg  \n",
            " extracting: Train/Normal/NORMAL2-IM-0332-0001.jpeg  \n",
            " extracting: Train/covid/covid-19-pneumonia-35-1.jpg  \n",
            " extracting: Train/covid/radiol.2020200490.fig3.jpeg  \n",
            " extracting: Train/covid/covid-19-pneumonia-7-PA.jpg  \n",
            " extracting: Train/covid/covid-19-pneumonia-35-2.jpg  \n",
            " extracting: Train/covid/radiol.2020200274.fig3d.png  \n",
            " extracting: Train/covid/covid-19-pneumonia-mild.JPG  \n",
            " extracting: Train/covid/12941_2020_358_Fig1_HTML.jpg  \n",
            " extracting: Train/covid/41182_2020_203_Fig3_HTML.jpg  \n",
            " extracting: Train/covid/covid-19-pneumonia-15-PA.jpg  \n",
            " extracting: Train/covid/covid-19-pneumonia-38-pa.jpg  \n",
            " extracting: Train/covid/covid-19-pneumonia-14-PA.png  \n",
            " extracting: Train/covid/41182_2020_203_Fig4_HTML.jpg  \n",
            " extracting: Train/covid/covid-19-pneumonia-30-PA.jpg  \n",
            " extracting: Train/covid/41182_2020_203_Fig5_HTML.jpg  \n",
            " extracting: Train/covid/ryct.2020200034.fig5-day0.jpeg  \n",
            " extracting: Train/covid/ryct.2020200034.fig5-day4.jpeg  \n",
            " extracting: Train/covid/40779_2020_233_Fig2_HTML-a.png  \n",
            " extracting: Train/covid/ryct.2020200034.fig5-day7.jpeg  \n",
            " extracting: Train/covid/41379_2020_536_Fig2_HTML-c1.png  \n",
            " extracting: Train/covid/covid-19-pneumonia-44-day-0.jpeg  \n",
            " extracting: Train/covid/covid-19-pneumonia-22-day1-pa.png  \n",
            " extracting: Train/covid/covid-19-pneumonia-22-day2-pa.png  \n",
            " extracting: Train/covid/1-s2.0-S0140673620303706-fx1_lrg.jpg  \n",
            " extracting: Test/covid/1-s2.0-S2387020620301959-gr4_lrg-c.png  \n",
            " extracting: Train/covid/nCoV-radiol.2020200269.fig1-day7.jpeg  \n",
            " extracting: Train/covid/10.1016-slash-j.anl.2020.04.002-a.png  \n",
            " extracting: Test/covid/1-s2.0-S0929664620300449-gr2_lrg-c.jpg  \n",
            " extracting: Test/covid/1-s2.0-S0929664620300449-gr2_lrg-d.jpg  \n",
            " extracting: Test/covid/1-s2.0-S0929664620300449-gr2_lrg-b.jpg  \n",
            " extracting: Train/covid/1-s2.0-S2387020620301959-gr4_lrg-b.png  \n",
            " extracting: Train/covid/1-s2.0-S0929664620300449-gr2_lrg-c.jpg  \n",
            " extracting: Train/covid/10.1016-slash-j.crad.2020.04.002-a.png  \n",
            " extracting: Train/covid/1-s2.0-S2214250920300834-gr1_lrg-c.png  \n",
            " extracting: Train/covid/41591_2020_819_Fig1_HTML.webp-day5.png  \n",
            " extracting: Train/covid/1-s2.0-S0929664620300449-gr2_lrg-d.jpg  \n",
            " extracting: Train/covid/1-s2.0-S2214250920300834-gr1_lrg-b.png  \n",
            " extracting: Train/covid/10.1016-slash-j.crad.2020.04.002-b.png  \n",
            " extracting: Train/covid/1-s2.0-S2387020620301959-gr4_lrg-c.png  \n",
            " extracting: Train/covid/1-s2.0-S0929664620300449-gr2_lrg-b.jpg  \n",
            " extracting: Train/covid/1-s2.0-S0929664620300449-gr2_lrg-a.jpg  \n",
            " extracting: Train/covid/41591_2020_819_Fig1_HTML.webp-day10.png  \n",
            " extracting: Test/covid/4e43e48d52c9e2d4c6c1fb9bc1544f_jumbo.jpeg  \n",
            " extracting: Test/covid/2edb88df42cab5e5fbc18b3965e0bd_jumbo.jpeg  \n",
            " extracting: Test/covid/1-s2.0-S1684118220300608-main.pdf-001.jpg  \n",
            " extracting: Test/covid/03BF7561-A9BA-4C3C-B8A0-D3E585F73F3C.jpeg  \n",
            " extracting: Test/covid/2C26F453-AF3B-4517-BB9E-802CF2179543.jpeg  \n",
            " extracting: Test/covid/01E392EE-69F9-4E33-BFCE-E5C968654078.jpeg  \n",
            " extracting: Train/covid/23E99E2E-447C-46E5-8EB2-D35D12473C39.png  \n",
            " extracting: Test/covid/1-s2.0-S1684118220300608-main.pdf-002.jpg  \n",
            " extracting: Train/covid/b0f1684d1ee90dc09deef015e29dae_jumbo.jpeg  \n",
            " extracting: Train/covid/1B734A89-A1BF-49A8-A1D3-66FAFA4FAC5D.jpeg  \n",
            " extracting: Train/covid/CD50BA96-6982-4C80-AE7B-5F67ACDBFA56.jpeg  \n",
            " extracting: Train/covid/2966893D-5DDF-4B68-9E2B-4979D5956C8E.jpeg  \n",
            " extracting: Train/covid/2C26F453-AF3B-4517-BB9E-802CF2179543.jpeg  \n",
            " extracting: Train/covid/FE9F9A5D-2830-46F9-851B-1FF4534959BE.jpeg  \n",
            " extracting: Train/covid/1312A392-67A3-4EBF-9319-810CF6DA5EF6.jpeg  \n",
            " extracting: Train/covid/1-s2.0-S1684118220300608-main.pdf-001.jpg  \n",
            " extracting: Train/covid/6CB4EFC6-68FA-4CD5-940C-BEFA8DAFE9A7.jpeg  \n",
            " extracting: Train/covid/E63574A7-4188-4C8D-8D17-9D67A18A1AFA.jpeg  \n",
            " extracting: Train/covid/2edb88df42cab5e5fbc18b3965e0bd_jumbo.jpeg  \n",
            " extracting: Train/covid/93FE0BB1-022D-4F24-9727-987A07975FFB.jpeg  \n",
            " extracting: Train/covid/7C69C012-7479-493F-8722-ABC29C60A2DD.jpeg  \n",
            " extracting: Train/covid/9fdd3c3032296fd04d2cad5d9070d4_jumbo.jpeg  \n",
            " extracting: Train/covid/1141cc2b8b9cc394becce5d978b5a7_jumbo.jpeg  \n",
            " extracting: Train/covid/4e43e48d52c9e2d4c6c1fb9bc1544f_jumbo.jpeg  \n",
            " extracting: Train/covid/14d81f378173b86cc53f21d2d67040_jumbo.jpeg  \n",
            " extracting: Train/covid/covid-19-pneumonia-20-pa-on-admission.jpg  \n",
            " extracting: Train/covid/F4341CE7-73C9-45C6-99C8-8567A5484B63.jpeg  \n",
            " extracting: Train/covid/yxppt-2020-02-19_00-51-27_287214-day8.jpg  \n",
            " extracting: Train/covid/80446565-E090-4187-A031-9D3CEAA586C8.jpeg  \n",
            " extracting: Train/covid/6C94A287-C059-46A0-8600-AFB95F4727B7.jpeg  \n",
            " extracting: Train/covid/1-s2.0-S1684118220300608-main.pdf-002.jpg  \n",
            " extracting: Train/covid/03BF7561-A9BA-4C3C-B8A0-D3E585F73F3C.jpeg  \n",
            " extracting: Train/covid/58cb9263f16e94305c730685358e4e_jumbo.jpeg  \n",
            " extracting: Train/covid/8FDE8DBA-CFBD-4B4C-B1A4-6F36A93B7E87.jpeg  \n",
            " extracting: Train/covid/53EC07C9-5CC6-4BE4-9B6F-D7B0D72AAA7E.jpeg  \n",
            " extracting: Train/covid/01E392EE-69F9-4E33-BFCE-E5C968654078.jpeg  \n",
            " extracting: Train/covid/7AF6C1AF-D249-4BD2-8C26-449304105D03.jpeg  \n",
            " extracting: Train/covid/9C34AF49-E589-44D5-92D3-168B3B04E4A6.jpeg  \n",
            " extracting: Train/covid/353889E0-A1E8-4F9E-A0B8-F24F36BCFBFB.jpeg  \n",
            " extracting: Train/covid/88de9d8c39e946abd495b37cd07d89e5-6531-0.jpg  \n",
            " extracting: Test/covid/1-s2.0-S1684118220300682-main.pdf-002-a1.png  \n",
            " extracting: Train/covid/88de9d8c39e946abd495b37cd07d89e5-2ee6-0.jpg  \n",
            " extracting: Train/covid/6b3bdbc31f65230b8cdcc3cef5f8ba8a-40ac-0.jpg  \n",
            " extracting: Train/covid/ae6c954c0039de4b5edee53865ffee43-e6c8-0.jpg  \n",
            " extracting: Test/covid/1-s2.0-S1684118220300682-main.pdf-003-b2.png  \n",
            " extracting: Test/covid/1-s2.0-S1684118220300682-main.pdf-003-b1.png  \n",
            " extracting: Test/covid/1-s2.0-S1684118220300682-main.pdf-002-a2.png  \n",
            " extracting: Train/covid/1-s2.0-S1684118220300682-main.pdf-002-a2.png  \n",
            " extracting: Train/covid/1-s2.0-S1684118220300682-main.pdf-003-b2.png  \n",
            " extracting: Train/covid/1-s2.0-S1684118220300682-main.pdf-002-a1.png  \n",
            " extracting: Train/covid/1-s2.0-S1684118220300682-main.pdf-003-b1.png  \n",
            " extracting: Train/covid/figure1-5e71be566aa8714a04de3386-98-left.jpeg  \n",
            " extracting: Train/covid/figure1-5e75d0940b71e1b702629659-98-right.jpeg  \n",
            " extracting: Train/covid/covid-19-pneumonia-rapidly-progressive-3-days.jpg  \n",
            " extracting: Train/covid/SARS-10.1148rg.242035193-g04mr34g0-Fig8a-day0.jpeg  \n",
            " extracting: Train/covid/SARS-10.1148rg.242035193-g04mr34g0-Fig8b-day5.jpeg  \n",
            " extracting: Train/covid/SARS-10.1148rg.242035193-g04mr34g05x-Fig5-day9.jpeg  \n",
            " extracting: Train/covid/SARS-10.1148rg.242035193-g04mr34g0-Fig8c-day10.jpeg  \n",
            " extracting: Train/covid/covid-19-pneumonia-rapidly-progressive-12-hours.jpg  \n",
            " extracting: Train/covid/SARS-10.1148rg.242035193-g04mr34g04a-Fig4a-day7.jpeg  \n",
            " extracting: Train/covid/covid-19-pneumonia-rapidly-progressive-admission.jpg  \n",
            " extracting: Train/covid/SARS-10.1148rg.242035193-g04mr34g07a-Fig7a-day5.jpeg  \n",
            " extracting: Train/covid/SARS-10.1148rg.242035193-g04mr34g07b-Fig7b-day12.jpeg  \n",
            " extracting: Train/covid/SARS-10.1148rg.242035193-g04mr34g04b-Fig4b-day12.jpeg  \n",
            " extracting: Train/covid/SARS-10.1148rg.242035193-g04mr34g09b-Fig9b-day19.jpeg  \n",
            " extracting: Train/covid/SARS-10.1148rg.242035193-g04mr34g09a-Fig9a-day17.jpeg  \n",
            " extracting: Train/covid/SARS-10.1148rg.242035193-g04mr34g09c-Fig9c-day27.jpeg  \n",
            " extracting: Train/covid/covid-19-pneumonia-evolution-over-a-week-1-day0-PA.jpg  \n",
            " extracting: Train/covid/article_river_e4d185c06e3511eaa2321d8ab357a1de-c1mn.png  \n",
            " extracting: Train/covid/fff49165-b22d-4bb4-b9d1-d5d62c52436c.annot.original.png  \n",
            " extracting: Train/covid/6b44464d-73a7-4cf3-bbb6-ffe7168300e3.annot.original.jpeg  \n",
            " extracting: Test/covid/1.CXRCTThoraximagesofCOVID-19fromSingapore.pdf-002-fig3a.png  \n",
            " extracting: Test/covid/1.CXRCTThoraximagesofCOVID-19fromSingapore.pdf-002-fig3b.png  \n",
            " extracting: Test/covid/1.CXRCTThoraximagesofCOVID-19fromSingapore.pdf-000-fig1b.png  \n",
            " extracting: Test/covid/1.CXRCTThoraximagesofCOVID-19fromSingapore.pdf-000-fig1a.png  \n",
            " extracting: Test/covid/1.CXRCTThoraximagesofCOVID-19fromSingapore.pdf-001-fig2a.png  \n",
            " extracting: Test/covid/1.CXRCTThoraximagesofCOVID-19fromSingapore.pdf-003-fig4b.png  \n",
            " extracting: Test/covid/1.CXRCTThoraximagesofCOVID-19fromSingapore.pdf-003-fig4a.png  \n",
            " extracting: Test/covid/1.CXRCTThoraximagesofCOVID-19fromSingapore.pdf-001-fig2b.png  \n",
            " extracting: Train/covid/1.CXRCTThoraximagesofCOVID-19fromSingapore.pdf-002-fig3a.png  \n",
            " extracting: Train/covid/1.CXRCTThoraximagesofCOVID-19fromSingapore.pdf-003-fig4a.png  \n",
            " extracting: Train/covid/1.CXRCTThoraximagesofCOVID-19fromSingapore.pdf-000-fig1b.png  \n",
            " extracting: Train/covid/1.CXRCTThoraximagesofCOVID-19fromSingapore.pdf-003-fig4b.png  \n",
            " extracting: Train/covid/1.CXRCTThoraximagesofCOVID-19fromSingapore.pdf-002-fig3b.png  \n",
            " extracting: Train/covid/1.CXRCTThoraximagesofCOVID-19fromSingapore.pdf-001-fig2a.png  \n",
            " extracting: Train/covid/1.CXRCTThoraximagesofCOVID-19fromSingapore.pdf-000-fig1a.png  \n",
            " extracting: Train/covid/1.CXRCTThoraximagesofCOVID-19fromSingapore.pdf-001-fig2b.png  \n",
            " extracting: Train/covid/covid-19-infection-exclusive-gastrointestinal-symptoms-pa.png  \n",
            " extracting: Train/covid/auntminnie-a-2020_01_28_23_51_6665_2020_01_28_Vietnam_coronavirus.jpeg  \n",
            " extracting: Train/covid/auntminnie-c-2020_01_28_23_51_6665_2020_01_28_Vietnam_coronavirus.jpeg  \n",
            " extracting: Train/covid/auntminnie-d-2020_01_28_23_51_6665_2020_01_28_Vietnam_coronavirus.jpeg  \n",
            " extracting: Train/covid/auntminnie-b-2020_01_28_23_51_6665_2020_01_28_Vietnam_coronavirus.jpeg  \n",
            " extracting: Train/covid/covid-19-rapidly-progressive-acute-respiratory-distress-syndrome-ards-day-1.jpg  \n",
            " extracting: Train/covid/covid-19-rapidly-progressive-acute-respiratory-distress-syndrome-ards-day-2.jpg  \n",
            " extracting: Train/covid/covid-19-rapidly-progressive-acute-respiratory-distress-syndrome-ards-day-3.jpg  \n",
            " extracting: Train/covid/covid-19-rapidly-progressive-acute-respiratory-distress-syndrome-ards-admission.jpg  \n"
          ],
          "name": "stdout"
        }
      ]
    },
    {
      "cell_type": "code",
      "metadata": {
        "id": "8Tb__Q9FAZDY"
      },
      "source": [
        "import numpy as np\n",
        "import matplotlib.pyplot as plt\n",
        "import keras\n",
        "from keras.layers import *\n",
        "from keras.models import *\n",
        "from keras.preprocessing import image"
      ],
      "execution_count": 4,
      "outputs": []
    },
    {
      "cell_type": "code",
      "metadata": {
        "id": "bruooVJCVYmP"
      },
      "source": [
        "TRAIN_PATH = \"/content/Train\"\n",
        "VAL_PATH = \"/content/Test\""
      ],
      "execution_count": 5,
      "outputs": []
    },
    {
      "cell_type": "code",
      "metadata": {
        "id": "ja8NMFMiBXXe"
      },
      "source": [
        "model = Sequential()\n",
        "\n",
        "model.add(Conv2D(32,kernel_size=(3,3),activation='relu',input_shape=(256,256,3)))\n",
        "model.add(Conv2D(64,(3,3),activation='relu'))\n",
        "model.add(MaxPool2D(pool_size=(2,2)))\n",
        "model.add(Dropout(0.25))\n",
        "\n",
        "model.add(Conv2D(64,(3,3), activation='relu'))\n",
        "model.add(MaxPool2D(pool_size=(2,2)))\n",
        "model.add(Dropout(0.25))\n",
        "\n",
        "model.add(Conv2D(128,(3,3), activation='relu'))\n",
        "model.add(MaxPool2D(pool_size=(2,2)))\n",
        "model.add(Dropout(0.25))\n",
        "\n",
        "\n",
        "model.add(Flatten())\n",
        "model.add(Dense(64,activation='relu'))\n",
        "model.add(Dropout(0.5))\n",
        "model.add(Dense(1, activation='sigmoid'))\n",
        "\n",
        "\n",
        "model.compile(loss=keras.losses.binary_crossentropy, optimizer='adam', metrics=['accuracy'])\n",
        "\n",
        "\n",
        " "
      ],
      "execution_count": 6,
      "outputs": []
    },
    {
      "cell_type": "code",
      "metadata": {
        "colab": {
          "base_uri": "https://localhost:8080/"
        },
        "id": "xylIU5OMWDch",
        "outputId": "63b90862-fee6-4f4f-9789-3dc1a2206c30"
      },
      "source": [
        "model.summary()"
      ],
      "execution_count": 7,
      "outputs": [
        {
          "output_type": "stream",
          "text": [
            "Model: \"sequential\"\n",
            "_________________________________________________________________\n",
            "Layer (type)                 Output Shape              Param #   \n",
            "=================================================================\n",
            "conv2d (Conv2D)              (None, 254, 254, 32)      896       \n",
            "_________________________________________________________________\n",
            "conv2d_1 (Conv2D)            (None, 252, 252, 64)      18496     \n",
            "_________________________________________________________________\n",
            "max_pooling2d (MaxPooling2D) (None, 126, 126, 64)      0         \n",
            "_________________________________________________________________\n",
            "dropout (Dropout)            (None, 126, 126, 64)      0         \n",
            "_________________________________________________________________\n",
            "conv2d_2 (Conv2D)            (None, 124, 124, 64)      36928     \n",
            "_________________________________________________________________\n",
            "max_pooling2d_1 (MaxPooling2 (None, 62, 62, 64)        0         \n",
            "_________________________________________________________________\n",
            "dropout_1 (Dropout)          (None, 62, 62, 64)        0         \n",
            "_________________________________________________________________\n",
            "conv2d_3 (Conv2D)            (None, 60, 60, 128)       73856     \n",
            "_________________________________________________________________\n",
            "max_pooling2d_2 (MaxPooling2 (None, 30, 30, 128)       0         \n",
            "_________________________________________________________________\n",
            "dropout_2 (Dropout)          (None, 30, 30, 128)       0         \n",
            "_________________________________________________________________\n",
            "flatten (Flatten)            (None, 115200)            0         \n",
            "_________________________________________________________________\n",
            "dense (Dense)                (None, 64)                7372864   \n",
            "_________________________________________________________________\n",
            "dropout_3 (Dropout)          (None, 64)                0         \n",
            "_________________________________________________________________\n",
            "dense_1 (Dense)              (None, 1)                 65        \n",
            "=================================================================\n",
            "Total params: 7,503,105\n",
            "Trainable params: 7,503,105\n",
            "Non-trainable params: 0\n",
            "_________________________________________________________________\n"
          ],
          "name": "stdout"
        }
      ]
    },
    {
      "cell_type": "code",
      "metadata": {
        "id": "xpPlLUYkEr4k"
      },
      "source": [
        "train_datagen = image.ImageDataGenerator(\n",
        "    rescale = 1./255,\n",
        "    shear_range = 0.2,\n",
        "    zoom_range = 0.2,\n",
        "    horizontal_flip = True,\n",
        ")\n",
        "\n",
        "test_dataset = image.ImageDataGenerator(rescale=1./255)"
      ],
      "execution_count": 8,
      "outputs": []
    },
    {
      "cell_type": "code",
      "metadata": {
        "colab": {
          "base_uri": "https://localhost:8080/"
        },
        "id": "Bjvi84wWFt0W",
        "outputId": "1230d24d-77b3-4b2d-da90-c3cc1df5d139"
      },
      "source": [
        "train_generator = train_datagen.flow_from_directory(\n",
        "    '/content/Train',\n",
        "    target_size = (256,256),\n",
        "    batch_size = 32,\n",
        "    class_mode = 'binary')"
      ],
      "execution_count": 9,
      "outputs": [
        {
          "output_type": "stream",
          "text": [
            "Found 435 images belonging to 2 classes.\n"
          ],
          "name": "stdout"
        }
      ]
    },
    {
      "cell_type": "code",
      "metadata": {
        "colab": {
          "base_uri": "https://localhost:8080/"
        },
        "id": "PXUTQFoSGRrF",
        "outputId": "f6b37a31-a2e9-462d-b297-0722ec35f6ae"
      },
      "source": [
        "train_generator.class_indices\n"
      ],
      "execution_count": 10,
      "outputs": [
        {
          "output_type": "execute_result",
          "data": {
            "text/plain": [
              "{'Normal': 0, 'covid': 1}"
            ]
          },
          "metadata": {
            "tags": []
          },
          "execution_count": 10
        }
      ]
    },
    {
      "cell_type": "code",
      "metadata": {
        "colab": {
          "base_uri": "https://localhost:8080/"
        },
        "id": "vaqIv3_wH8S3",
        "outputId": "9496a82e-6e8f-43d9-c787-228e6403b0ac"
      },
      "source": [
        "validation_generator = test_dataset.flow_from_directory(\n",
        "    '/content/Test',\n",
        "    target_size = (256,256),\n",
        "    batch_size = 32,\n",
        "    class_mode = 'binary')"
      ],
      "execution_count": 12,
      "outputs": [
        {
          "output_type": "stream",
          "text": [
            "Found 72 images belonging to 2 classes.\n"
          ],
          "name": "stdout"
        }
      ]
    },
    {
      "cell_type": "code",
      "metadata": {
        "colab": {
          "base_uri": "https://localhost:8080/"
        },
        "id": "yBacRE9sK7Ww",
        "outputId": "6e301886-4900-4a10-b59c-e5bd60f5f9ac"
      },
      "source": [
        "hist = model.fit_generator(\n",
        "    train_generator,\n",
        "    steps_per_epoch=8,\n",
        "    epochs = 10,\n",
        "    validation_data = validation_generator,\n",
        "    validation_steps=2\n",
        ")"
      ],
      "execution_count": 13,
      "outputs": [
        {
          "output_type": "stream",
          "text": [
            "/usr/local/lib/python3.7/dist-packages/keras/engine/training.py:1915: UserWarning: `Model.fit_generator` is deprecated and will be removed in a future version. Please use `Model.fit`, which supports generators.\n",
            "  warnings.warn('`Model.fit_generator` is deprecated and '\n"
          ],
          "name": "stderr"
        },
        {
          "output_type": "stream",
          "text": [
            "Epoch 1/10\n",
            "8/8 [==============================] - 100s 10s/step - loss: 0.9198 - accuracy: 0.4842 - val_loss: 0.6508 - val_accuracy: 0.6250\n",
            "Epoch 2/10\n",
            "8/8 [==============================] - 86s 11s/step - loss: 0.6223 - accuracy: 0.6310 - val_loss: 0.5096 - val_accuracy: 0.9844\n",
            "Epoch 3/10\n",
            "8/8 [==============================] - 85s 11s/step - loss: 0.4491 - accuracy: 0.7973 - val_loss: 0.3253 - val_accuracy: 0.9688\n",
            "Epoch 4/10\n",
            "8/8 [==============================] - 86s 11s/step - loss: 0.2765 - accuracy: 0.9235 - val_loss: 0.0832 - val_accuracy: 0.9844\n",
            "Epoch 5/10\n",
            "8/8 [==============================] - 86s 11s/step - loss: 0.2535 - accuracy: 0.9195 - val_loss: 0.1040 - val_accuracy: 0.9844\n",
            "Epoch 6/10\n",
            "8/8 [==============================] - 86s 11s/step - loss: 0.1028 - accuracy: 0.9768 - val_loss: 0.0319 - val_accuracy: 1.0000\n",
            "Epoch 7/10\n",
            "8/8 [==============================] - 85s 11s/step - loss: 0.1880 - accuracy: 0.9449 - val_loss: 0.0562 - val_accuracy: 0.9844\n",
            "Epoch 8/10\n",
            "8/8 [==============================] - 85s 11s/step - loss: 0.2074 - accuracy: 0.9236 - val_loss: 0.0844 - val_accuracy: 0.9844\n",
            "Epoch 9/10\n",
            "8/8 [==============================] - 81s 10s/step - loss: 0.1533 - accuracy: 0.9433 - val_loss: 0.0534 - val_accuracy: 0.9844\n",
            "Epoch 10/10\n",
            "8/8 [==============================] - 81s 10s/step - loss: 0.0694 - accuracy: 0.9759 - val_loss: 0.0575 - val_accuracy: 0.9844\n"
          ],
          "name": "stdout"
        }
      ]
    },
    {
      "cell_type": "code",
      "metadata": {
        "id": "LdskMaY4K7Yq"
      },
      "source": [
        "model.save(\"BTP_MID.h5\")"
      ],
      "execution_count": 14,
      "outputs": []
    },
    {
      "cell_type": "code",
      "metadata": {
        "colab": {
          "base_uri": "https://localhost:8080/"
        },
        "id": "oMc1Ez3LcNgd",
        "outputId": "d5fbc16d-30fb-485a-f058-84f7c1fba775"
      },
      "source": [
        "model.evaluate_generator(train_generator)"
      ],
      "execution_count": 15,
      "outputs": [
        {
          "output_type": "stream",
          "text": [
            "/usr/local/lib/python3.7/dist-packages/keras/engine/training.py:1948: UserWarning: `Model.evaluate_generator` is deprecated and will be removed in a future version. Please use `Model.evaluate`, which supports generators.\n",
            "  warnings.warn('`Model.evaluate_generator` is deprecated and '\n"
          ],
          "name": "stderr"
        },
        {
          "output_type": "execute_result",
          "data": {
            "text/plain": [
              "[0.12413441389799118, 0.954023003578186]"
            ]
          },
          "metadata": {
            "tags": []
          },
          "execution_count": 15
        }
      ]
    },
    {
      "cell_type": "code",
      "metadata": {
        "colab": {
          "base_uri": "https://localhost:8080/"
        },
        "id": "cviq0g4PcbH0",
        "outputId": "4cfef232-cf75-4b22-c990-6d1af18d48d6"
      },
      "source": [
        "model.evaluate_generator(validation_generator)"
      ],
      "execution_count": null,
      "outputs": [
        {
          "output_type": "stream",
          "text": [
            "/usr/local/lib/python3.7/dist-packages/keras/engine/training.py:1948: UserWarning: `Model.evaluate_generator` is deprecated and will be removed in a future version. Please use `Model.evaluate`, which supports generators.\n",
            "  warnings.warn('`Model.evaluate_generator` is deprecated and '\n"
          ],
          "name": "stderr"
        },
        {
          "output_type": "execute_result",
          "data": {
            "text/plain": [
              "[0.04715832695364952, 0.9861111044883728]"
            ]
          },
          "metadata": {
            "tags": []
          },
          "execution_count": 16
        }
      ]
    },
    {
      "cell_type": "code",
      "metadata": {
        "id": "LJgjb62TuCte"
      },
      "source": [
        "import cv2\n",
        "import glob\n",
        "\n",
        "normal_list = glob.glob('/content/Test/Normal/*.*')\n",
        "covid_list = glob.glob('/content/Test/covid/*.*')"
      ],
      "execution_count": 58,
      "outputs": []
    },
    {
      "cell_type": "code",
      "metadata": {
        "colab": {
          "base_uri": "https://localhost:8080/"
        },
        "id": "qf-8mNjjucjX",
        "outputId": "410f059c-c31b-42d3-9312-052a16ec57a8"
      },
      "source": [
        "N_cnt=0\n",
        "False_p=0\n",
        "True_n=0\n",
        "for i in range(0,len(normal_list)):\n",
        "  img = image.load_img(normal_list[i],target_size=(256,256))\n",
        "  img = image.img_to_array(img)/255 \n",
        "  img = np.array([img])\n",
        "  N_cnt=N_cnt+1\n",
        "  p = model.predict_classes(img)\n",
        "  #print (p)\n",
        "  if( p== 1):\n",
        "    False_p=False_p+1 \n",
        "  if(p == 0):\n",
        "      True_n= True_n+1\n",
        "\n",
        "\n",
        "print(N_cnt,True_n,False_p)"
      ],
      "execution_count": 70,
      "outputs": [
        {
          "output_type": "stream",
          "text": [
            "/usr/local/lib/python3.7/dist-packages/keras/engine/sequential.py:450: UserWarning: `model.predict_classes()` is deprecated and will be removed after 2021-01-01. Please use instead:* `np.argmax(model.predict(x), axis=-1)`,   if your model does multi-class classification   (e.g. if it uses a `softmax` last-layer activation).* `(model.predict(x) > 0.5).astype(\"int32\")`,   if your model does binary classification   (e.g. if it uses a `sigmoid` last-layer activation).\n",
            "  warnings.warn('`model.predict_classes()` is deprecated and '\n"
          ],
          "name": "stderr"
        },
        {
          "output_type": "stream",
          "text": [
            "45 44 1\n"
          ],
          "name": "stdout"
        }
      ]
    },
    {
      "cell_type": "code",
      "metadata": {
        "colab": {
          "base_uri": "https://localhost:8080/"
        },
        "id": "-g241CDYxfqw",
        "outputId": "7cc706dd-9dfb-4f2e-f599-605f25ae7243"
      },
      "source": [
        "C_cnt=0\n",
        "False_n=0\n",
        "True_p=0\n",
        "for i in range(0,len(covid_list)):\n",
        "  img = image.load_img(covid_list[i],target_size=(256,256))\n",
        "  img = image.img_to_array(img)/255 \n",
        "  img = np.array([img])\n",
        "  C_cnt=C_cnt+1\n",
        "  p = model.predict_classes(img)\n",
        "  if( p== 0):\n",
        "    False_n=False_n+1 \n",
        "  if(p == 1):\n",
        "    True_p= True_p+1\n",
        "\n",
        "\n",
        "print(C_cnt,False_n,True_p)"
      ],
      "execution_count": 71,
      "outputs": [
        {
          "output_type": "stream",
          "text": [
            "/usr/local/lib/python3.7/dist-packages/keras/engine/sequential.py:450: UserWarning: `model.predict_classes()` is deprecated and will be removed after 2021-01-01. Please use instead:* `np.argmax(model.predict(x), axis=-1)`,   if your model does multi-class classification   (e.g. if it uses a `softmax` last-layer activation).* `(model.predict(x) > 0.5).astype(\"int32\")`,   if your model does binary classification   (e.g. if it uses a `sigmoid` last-layer activation).\n",
            "  warnings.warn('`model.predict_classes()` is deprecated and '\n"
          ],
          "name": "stderr"
        },
        {
          "output_type": "stream",
          "text": [
            "27 0 27\n"
          ],
          "name": "stdout"
        }
      ]
    },
    {
      "cell_type": "code",
      "metadata": {
        "colab": {
          "base_uri": "https://localhost:8080/"
        },
        "id": "uE44LpmN4Bxg",
        "outputId": "e156e600-bd73-487a-f7d0-355479cc4cce"
      },
      "source": [
        "Acc = (True_p+True_n)/(N_cnt+C_cnt)\n",
        "print(\"Accurarcy: \", Acc)\n",
        "\n",
        "Pre = (True_p)/(True_p+False_p)\n",
        "print(\"Precision: \",Pre)\n",
        "\n",
        "Rec = (True_p)/(True_p+False_n)\n",
        "print(\"Recall: \",Rec)\n",
        "\n",
        "\n",
        "f1_score = (2*Pre*Rec)/(Pre+Rec)\n",
        "print(\"F1 Score: \",f1_score)"
      ],
      "execution_count": 75,
      "outputs": [
        {
          "output_type": "stream",
          "text": [
            "Accurarcy:  0.9861111111111112\n",
            "Precision:  0.9642857142857143\n",
            "Recall:  1.0\n",
            "F1 Score:  0.9818181818181818\n"
          ],
          "name": "stdout"
        }
      ]
    },
    {
      "cell_type": "code",
      "metadata": {
        "colab": {
          "base_uri": "https://localhost:8080/"
        },
        "id": "R_bo3-SbZeuR",
        "outputId": "ac34b947-96e4-4903-da4a-49ce8078113c"
      },
      "source": [
        "P+path = \"/content/Train/Normal/IM-0129-0001.jpeg\"\n",
        "\n",
        "img = image.load_img(path,target_size=(256,256))\n",
        "img = image.img_to_array(img)/255\n",
        "img = np.array([img])\n",
        "img.shape"
      ],
      "execution_count": 62,
      "outputs": [
        {
          "output_type": "execute_result",
          "data": {
            "text/plain": [
              "(1, 256, 256, 3)"
            ]
          },
          "metadata": {
            "tags": []
          },
          "execution_count": 62
        }
      ]
    },
    {
      "cell_type": "code",
      "metadata": {
        "colab": {
          "base_uri": "https://localhost:8080/"
        },
        "id": "iBKLD-5-aQTR",
        "outputId": "6dd07f07-9537-47c1-c307-d18cef21031b"
      },
      "source": [
        "p = model.predict_classes(img)\n",
        "print (p)\n",
        "\n",
        "if( p== 1):\n",
        "  print (\"Covid 19 Patient Xray\")\n",
        "if(p == 0):\n",
        "  print (\"Normal parient Xray.\")"
      ],
      "execution_count": 63,
      "outputs": [
        {
          "output_type": "stream",
          "text": [
            "[[0]]\n",
            "Normal parient Xray.\n"
          ],
          "name": "stdout"
        },
        {
          "output_type": "stream",
          "text": [
            "/usr/local/lib/python3.7/dist-packages/keras/engine/sequential.py:450: UserWarning: `model.predict_classes()` is deprecated and will be removed after 2021-01-01. Please use instead:* `np.argmax(model.predict(x), axis=-1)`,   if your model does multi-class classification   (e.g. if it uses a `softmax` last-layer activation).* `(model.predict(x) > 0.5).astype(\"int32\")`,   if your model does binary classification   (e.g. if it uses a `sigmoid` last-layer activation).\n",
            "  warnings.warn('`model.predict_classes()` is deprecated and '\n"
          ],
          "name": "stderr"
        }
      ]
    },
    {
      "cell_type": "code",
      "metadata": {
        "id": "QmWyaNqE47gx"
      },
      "source": [
        ""
      ],
      "execution_count": null,
      "outputs": []
    }
  ]
}